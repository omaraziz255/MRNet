{
  "nbformat": 4,
  "nbformat_minor": 0,
  "metadata": {
    "colab": {
      "name": "TransferLearning.ipynb",
      "provenance": [],
      "machine_shape": "hm",
      "authorship_tag": "ABX9TyPvMYACFCYIVjoFcoXR/azy",
      "include_colab_link": true
    },
    "kernelspec": {
      "name": "python3",
      "display_name": "Python 3"
    },
    "accelerator": "GPU"
  },
  "cells": [
    {
      "cell_type": "markdown",
      "metadata": {
        "id": "view-in-github",
        "colab_type": "text"
      },
      "source": [
        "<a href=\"https://colab.research.google.com/github/omaraziz255/MRNet/blob/master/TransferLearning.ipynb\" target=\"_parent\"><img src=\"https://colab.research.google.com/assets/colab-badge.svg\" alt=\"Open In Colab\"/></a>"
      ]
    },
    {
      "cell_type": "code",
      "metadata": {
        "id": "5eq-0dKuNfRl",
        "colab_type": "code",
        "colab": {}
      },
      "source": [
        "from google.colab import drive, files\n",
        "import os\n",
        "import numpy as np\n",
        "import matplotlib.pyplot as plt\n",
        "from tensorflow.keras import models,layers,losses,optimizers, backend\n",
        "from sklearn.model_selection import train_test_split\n",
        "import random\n",
        "from sklearn.utils import class_weight\n",
        "from sklearn.preprocessing import LabelEncoder\n",
        "from scipy import ndimage as nd\n",
        "from tensorflow.keras.preprocessing.image import ImageDataGenerator\n",
        "from tensorflow.keras.layers import Convolution2D, BatchNormalization, Activation,DepthwiseConv2D, Input, Dense, GlobalAveragePooling2D, Dropout, Flatten\n",
        "from tensorflow.keras.regularizers import l2\n",
        "from tensorflow.keras.metrics import binary_accuracy, mae\n",
        "from tensorflow.keras.callbacks import ModelCheckpoint, EarlyStopping, ReduceLROnPlateau\n",
        "from tensorflow.keras.applications.vgg16 import VGG16\n",
        "import warnings\n",
        "backend.set_image_data_format('channels_last')\n",
        "drive.mount('/content/gdrive/')"
      ],
      "execution_count": 0,
      "outputs": []
    },
    {
      "cell_type": "code",
      "metadata": {
        "id": "U2vVh_l3LIzw",
        "colab_type": "code",
        "colab": {}
      },
      "source": [
        "def transfer_model_train(basepath, plane, model,label):\n",
        "\n",
        "  path = basepath + \"/\" + plane\n",
        "  files = [f for f in sorted(os.listdir(path)) if f.endswith(\".npy\")]\n",
        "  count = 10\n",
        "  labels = np.load(basepath + \"/\" + label + \".npy\")[:,1]\n",
        "  mc = ModelCheckpoint(\"/content/gdrive/My Drive/Models/\"+\"TransferVGG\"+\"_\"+plane+\"_\"+label+\".h5\", monitor='val_accuracy',mode='max', save_best_only=False)\n",
        "  es = EarlyStopping(monitor='val_loss', mode='auto', verbose=2, patience = 5)\n",
        "  batch = 64\n",
        "  stride = 113\n",
        "  validation = None\n",
        "  for i in range(count):\n",
        "    print(i)\n",
        "    pre_process = ImageDataGenerator(featurewise_center=True, featurewise_std_normalization=True)\n",
        "    pre_process_valid = ImageDataGenerator(featurewise_center=True, featurewise_std_normalization=True)\n",
        "    X_train = None\n",
        "    Y_train = None\n",
        "    cases= files[(i*stride):(i*stride)+stride]\n",
        "    for j,filename in enumerate(cases):\n",
        "      totalpath = path + \"/\" + filename\n",
        "      temp = np.load(totalpath)\n",
        "      if X_train is None:\n",
        "        X_train = temp\n",
        "        Y_train = np.repeat(labels[(i*stride)+j], temp.shape[0])\n",
        "      else:\n",
        "        X_train = np.vstack((X_train, temp))\n",
        "        Y_train = np.append(Y_train, np.repeat(labels[(i*stride)+j], temp.shape[0]))\n",
        "\n",
        "\n",
        "    X_train = np.array(X_train).reshape((len(X_train),256,256))\n",
        "\n",
        "    X_train =np.stack([X_train]*3,axis=3)\n",
        "    print(X_train.shape)\n",
        "    print(Y_train.shape)\n",
        "\n",
        "    X_train, X_valid, Y_train, Y_valid = train_test_split(X_train, Y_train, test_size=0.1, shuffle=True)\n",
        "\n",
        "    print(X_train.shape)\n",
        "\n",
        "\n",
        "    if validation is None:\n",
        "      validation = X_valid\n",
        "      validation_labels = Y_valid\n",
        "    else:\n",
        "      validation = np.vstack((validation, X_valid))\n",
        "      validation_labels = np.append(validation_labels, Y_valid)\n",
        "\n",
        "      \n",
        "    pre_process_valid.fit(validation)\n",
        "    pre_process.fit(X_train)\n",
        "\n",
        "    print(X_train.shape)\n",
        "    print(Y_train.shape)\n",
        "\n",
        "  \n",
        "\n",
        "    history = model.fit(pre_process.flow(X_train,Y_train, batch_size=batch),\n",
        "                        validation_data=pre_process_valid.flow(validation, validation_labels),\n",
        "                        epochs = 1, validation_steps = len(validation)/batch,\n",
        "                        callbacks = [mc, es], steps_per_epoch = len(X_train)/batch)"
      ],
      "execution_count": 0,
      "outputs": []
    },
    {
      "cell_type": "markdown",
      "metadata": {
        "id": "eryZjpggoEW2",
        "colab_type": "text"
      },
      "source": [
        "# Transfer Learning Model"
      ]
    },
    {
      "cell_type": "code",
      "metadata": {
        "id": "HPmmzyy6Lgei",
        "colab_type": "code",
        "outputId": "69a9d59d-6b6d-45f9-d430-25bf40853c0f",
        "colab": {
          "base_uri": "https://localhost:8080/",
          "height": 71
        }
      },
      "source": [
        "model = VGG16(weights='imagenet',include_top=False)  #pre_trained VGG16 model\n",
        "input_layer = Input(shape=(256,256,3))\n",
        "transfer = model(input_layer)\n",
        "\n",
        "X = Flatten()(transfer)   #Adding Dense trainable layers\n",
        "X = Dense(1024, activation='relu')(X)\n",
        "X = Dropout(0.5)(X)\n",
        "X = Dense(512, activation='relu')(X)\n",
        "X = Dropout(0.5)(X)\n",
        "X = Dense(1, activation='sigmoid')(X)\n",
        "\n",
        "my_model = models.Model(inputs=input_layer, outputs=X)\n",
        "\n",
        "SGD = optimizers.SGD(learning_rate=0.0001, momentum=0.99) #default learning rate is 0.001\n",
        "my_model.compile(optimizer= SGD, loss = losses.binary_crossentropy, metrics=['accuracy'])  #should've used F1 score / Recall\n",
        "\n"
      ],
      "execution_count": 0,
      "outputs": [
        {
          "output_type": "stream",
          "text": [
            "Downloading data from https://storage.googleapis.com/tensorflow/keras-applications/vgg16/vgg16_weights_tf_dim_ordering_tf_kernels_notop.h5\n",
            "58892288/58889256 [==============================] - 0s 0us/step\n"
          ],
          "name": "stdout"
        }
      ]
    },
    {
      "cell_type": "code",
      "metadata": {
        "id": "kkeuSkUEdFqV",
        "colab_type": "code",
        "outputId": "cd6e8b8d-4999-4235-940f-855c5bfd74c7",
        "colab": {
          "base_uri": "https://localhost:8080/",
          "height": 632
        }
      },
      "source": [
        "my_model = models.load_model(\"/content/gdrive/My Drive/Models/TransferVGG_axial_acl.h5\")\n",
        "transfer_model_train(\"/content/gdrive/My Drive/Dataset/TrainingSet\",\"axial\",my_model,\"acl\")"
      ],
      "execution_count": 0,
      "outputs": [
        {
          "output_type": "stream",
          "text": [
            "5\n",
            "(4044, 256, 256, 3)\n",
            "(4044,)\n",
            "(3639, 256, 256, 3)\n",
            "(3639, 256, 256, 3)\n",
            "(3639,)\n",
            "57/56 [==============================] - 138s 2s/step - loss: 0.4160 - accuracy: 0.8700 - val_loss: 0.5098 - val_accuracy: 0.8304\n",
            "6\n",
            "(4054, 256, 256, 3)\n",
            "(4054,)\n",
            "(3648, 256, 256, 3)\n",
            "(3648, 256, 256, 3)\n",
            "(3648,)\n",
            "57/57 [==============================] - 125s 2s/step - loss: 0.5794 - accuracy: 0.7834 - val_loss: 0.5314 - val_accuracy: 0.8101\n",
            "7\n",
            "(3762, 256, 256, 3)\n",
            "(3762,)\n",
            "(3385, 256, 256, 3)\n",
            "(3385, 256, 256, 3)\n",
            "(3385,)\n",
            "53/52 [==============================] - 131s 2s/step - loss: 0.4222 - accuracy: 0.8614 - val_loss: 0.4863 - val_accuracy: 0.8141\n",
            "8\n",
            "(3935, 256, 256, 3)\n",
            "(3935,)\n",
            "(3541, 256, 256, 3)\n",
            "(3541, 256, 256, 3)\n",
            "(3541,)\n",
            "56/55 [==============================] - 132s 2s/step - loss: 0.5465 - accuracy: 0.7727 - val_loss: 0.4818 - val_accuracy: 0.8313\n",
            "9\n",
            "(3730, 256, 256, 3)\n",
            "(3730,)\n",
            "(3357, 256, 256, 3)\n",
            "(3357, 256, 256, 3)\n",
            "(3357,)\n",
            "53/52 [==============================] - 130s 2s/step - loss: 0.4470 - accuracy: 0.8439 - val_loss: 0.4413 - val_accuracy: 0.8357\n"
          ],
          "name": "stdout"
        }
      ]
    }
  ]
}