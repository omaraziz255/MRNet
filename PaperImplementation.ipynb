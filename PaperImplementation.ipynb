{
  "nbformat": 4,
  "nbformat_minor": 0,
  "metadata": {
    "colab": {
      "name": "PaperImplementation.ipynb",
      "provenance": []
    },
    "kernelspec": {
      "name": "python3",
      "display_name": "Python 3"
    },
    "accelerator": "GPU"
  },
  "cells": [
    {
      "cell_type": "code",
      "metadata": {
        "id": "oDqNP6S9oDlU",
        "colab_type": "code",
        "colab": {}
      },
      "source": [
        "from google.colab import drive, files\n",
        "import os\n",
        "import numpy as np\n",
        "import matplotlib.pyplot as plt\n",
        "from tensorflow.keras import models,layers,losses,optimizers, backend\n",
        "from sklearn.model_selection import train_test_split\n",
        "import random\n",
        "from sklearn.utils import class_weight\n",
        "from sklearn.preprocessing import LabelEncoder\n",
        "from scipy import ndimage as nd\n",
        "from tensorflow.keras.preprocessing.image import ImageDataGenerator\n",
        "from tensorflow.keras.layers import Convolution2D, BatchNormalization, Activation,DepthwiseConv2D, Input, Dense, GlobalAveragePooling2D, Dropout, Flatten, Reshape, MaxPooling2D, MaxPooling1D, GlobalMaxPooling1D, GlobalMaxPooling2D\n",
        "\n",
        "from tensorflow.keras.regularizers import l2\n",
        "from tensorflow.keras.metrics import binary_accuracy, mae\n",
        "from tensorflow.keras.callbacks import ModelCheckpoint, EarlyStopping, ReduceLROnPlateau\n",
        "from tensorflow.keras.applications.vgg19 import VGG19\n",
        "import warnings"
      ],
      "execution_count": 0,
      "outputs": []
    },
    {
      "cell_type": "code",
      "metadata": {
        "id": "zDdCx_7eoZY7",
        "colab_type": "code",
        "outputId": "40ac41c3-4f49-4556-cd98-c0328b4c8e49",
        "colab": {
          "base_uri": "https://localhost:8080/",
          "height": 122
        }
      },
      "source": [
        "backend.set_image_data_format('channels_first')\n",
        "drive.mount('/content/gdrive/')\n",
        "base_path = \"/content/gdrive/My Drive/\""
      ],
      "execution_count": 0,
      "outputs": [
        {
          "output_type": "stream",
          "text": [
            "Go to this URL in a browser: https://accounts.google.com/o/oauth2/auth?client_id=947318989803-6bn6qk8qdgf4n4g3pfee6491hc0brc4i.apps.googleusercontent.com&redirect_uri=urn%3aietf%3awg%3aoauth%3a2.0%3aoob&response_type=code&scope=email%20https%3a%2f%2fwww.googleapis.com%2fauth%2fdocs.test%20https%3a%2f%2fwww.googleapis.com%2fauth%2fdrive%20https%3a%2f%2fwww.googleapis.com%2fauth%2fdrive.photos.readonly%20https%3a%2f%2fwww.googleapis.com%2fauth%2fpeopleapi.readonly\n",
            "\n",
            "Enter your authorization code:\n",
            "··········\n",
            "Mounted at /content/gdrive/\n"
          ],
          "name": "stdout"
        }
      ]
    },
    {
      "cell_type": "markdown",
      "metadata": {
        "id": "sZDUsCQEo5-_",
        "colab_type": "text"
      },
      "source": [
        "# Feature Extraction using base VGG19 model and pooling layers"
      ]
    },
    {
      "cell_type": "code",
      "metadata": {
        "id": "grnxDvcP1tFR",
        "colab_type": "code",
        "colab": {}
      },
      "source": [
        "def feature_extractor(base_path, plane, base_model, pooling_model, save_path):\n",
        "   path = base_path + \"/\" + plane\n",
        "   save_path = save_path + \"/\" + plane\n",
        "   files = [f for f in sorted(os.listdir(path)) if f.endswith(\".npy\")]\n",
        "   for f in files:\n",
        "     temp = np.load(path + \"/\" + f)\n",
        "     temp = np.stack([temp]*3, axis=1)\n",
        "     print(temp.shape)\n",
        "     slices = temp.shape[0]\n",
        "\n",
        "     X_train = Input((slices,512))\n",
        "     train = BatchNormalization()(X_train)\n",
        "     train = GlobalMaxPooling1D()(train)\n",
        "     train = Flatten()(train)\n",
        "\n",
        "     final = models.Model(inputs=X_train, outputs=train)\n",
        "\n",
        "     features = base_model.predict(temp)\n",
        "     print(features.shape)\n",
        "     output = pooling_model.predict(features)\n",
        "     predictions = final.predict(output.reshape((1,slices,512)))\n",
        "     print(output.shape)\n",
        "     print(predictions.shape)\n",
        "\n",
        "     np.save(save_path + \"/\" + f, predictions)\n",
        "\n",
        "\n",
        "\n"
      ],
      "execution_count": 0,
      "outputs": []
    },
    {
      "cell_type": "code",
      "metadata": {
        "id": "PE3cBQCnSGe7",
        "colab_type": "code",
        "colab": {}
      },
      "source": [
        "base_model = VGG19(weights='imagenet',include_top=False, input_shape=(3,256,256))\n",
        "\n",
        "features = Input((512,8,8))\n",
        "gap = GlobalAveragePooling2D()(features)\n",
        "pooling_model = models.Model(inputs=features, outputs=gap)\n",
        "\n",
        "feature_extractor(base_path+\"Dataset/TestSet/\", \"coronal\", base_model, pooling_model, base_path+\"Features/TestSet/\")"
      ],
      "execution_count": 0,
      "outputs": []
    },
    {
      "cell_type": "code",
      "metadata": {
        "id": "1rZQNjEAq7Iu",
        "colab_type": "code",
        "colab": {}
      },
      "source": [
        "def train_mrnet(base_path, plane, label, model):\n",
        "  total = base_path + \"/\" + plane\n",
        "  Y_train = np.load(\"/content/gdrive/My Drive/Dataset/TrainingSet/\" + label + \".npy\")[:,1]\n",
        "  files = [f for f in sorted(os.listdir(total)) if f.endswith(\".npy\")]\n",
        "  X_train = None\n",
        "  mc = ModelCheckpoint('/content/gdrive/My Drive/Models/MRNET_'+plane+'_'+label+'.h5', monitor='val_accuracy', mode='max', verbose=2, save_best_only=True)\n",
        "  es = EarlyStopping(monitor='val_loss', mode='min', verbose=2, patience=10)\n",
        "  lr = ReduceLROnPlateau(monitor='val_loss', factor=0.1,\n",
        "                         patience=5, min_lr=0.0001)\n",
        "\n",
        "  for f in files:\n",
        "    temp = np.load(total + \"/\" + f)\n",
        "    if X_train is None:\n",
        "      X_train = temp\n",
        "    else:\n",
        "      X_train = np.vstack((X_train, temp))\n",
        "  print(X_train.shape)\n",
        "\n",
        "  X_train, X_valid, Y_train, Y_valid = train_test_split(X_train, Y_train, test_size=0.1, shuffle=True)\n",
        "\n",
        "  weights = class_weight.compute_class_weight('balanced',np.unique(Y_train), Y_train)\n",
        "  class_weights = dict(enumerate(weights))\n",
        "  validation_weights = class_weight.compute_sample_weight('balanced', Y_valid)\n",
        "\n",
        "  history = model.fit(X_train,Y_train, batch_size=1,\n",
        "                      validation_data=(X_valid, Y_valid, validation_weights),\n",
        "                      epochs = 100, callbacks = [mc, es, lr], verbose=2, class_weight = class_weights)\n",
        "\n",
        "\n",
        "\n"
      ],
      "execution_count": 0,
      "outputs": []
    },
    {
      "cell_type": "markdown",
      "metadata": {
        "id": "mHrj7_qppJ-V",
        "colab_type": "text"
      },
      "source": [
        "# Passing features to dense layers for final classification"
      ]
    },
    {
      "cell_type": "code",
      "metadata": {
        "id": "sgHhiAGo0Oh0",
        "colab_type": "code",
        "outputId": "d634b995-f22b-418d-afa2-fdb2013ad92b",
        "colab": {
          "base_uri": "https://localhost:8080/",
          "height": 1000
        }
      },
      "source": [
        "inputs = Input((512))\n",
        "model = Dense(64, activation=\"relu\", kernel_regularizer=l2(0.001))(inputs)\n",
        "model = Dropout(0.5)(model)\n",
        "model = Dense(64, activation=\"relu\", kernel_regularizer=l2(0.001))(model)\n",
        "model = Dropout(0.5)(model)\n",
        "pred = Dense(1,activation='sigmoid')(model)\n",
        "mrnet = models.Model(inputs=inputs,outputs=pred)\n",
        "\n",
        "adam = optimizers.Adam(learning_rate=0.0001)\n",
        "\n",
        "mrnet.compile(optimizer=adam,loss='binary_crossentropy',metrics=['accuracy'])  #Should've been F1_score and Recall\n",
        "\n",
        "train_mrnet(base_path + \"Features/TrainingSet\", \"sagittal\", \"abnormal\", mrnet)"
      ],
      "execution_count": 0,
      "outputs": [
        {
          "output_type": "stream",
          "text": [
            "(1130, 512)\n",
            "Epoch 1/100\n",
            "\n",
            "Epoch 00001: val_accuracy improved from -inf to 0.73451, saving model to /content/gdrive/My Drive/Models/MRNET_sagittal_abnormal.h5\n",
            "1017/1017 - 3s - loss: 1.7896 - accuracy: 0.5270 - val_loss: 0.7000 - val_accuracy: 0.7345 - lr: 1.0000e-04\n",
            "Epoch 2/100\n",
            "\n",
            "Epoch 00002: val_accuracy did not improve from 0.73451\n",
            "1017/1017 - 3s - loss: 0.8826 - accuracy: 0.5772 - val_loss: 0.7599 - val_accuracy: 0.7257 - lr: 1.0000e-04\n",
            "Epoch 3/100\n",
            "\n",
            "Epoch 00003: val_accuracy did not improve from 0.73451\n",
            "1017/1017 - 3s - loss: 0.8290 - accuracy: 0.6618 - val_loss: 0.7622 - val_accuracy: 0.6372 - lr: 1.0000e-04\n",
            "Epoch 4/100\n",
            "\n",
            "Epoch 00004: val_accuracy did not improve from 0.73451\n",
            "1017/1017 - 3s - loss: 0.8413 - accuracy: 0.6863 - val_loss: 0.7657 - val_accuracy: 0.7257 - lr: 1.0000e-04\n",
            "Epoch 5/100\n",
            "\n",
            "Epoch 00005: val_accuracy improved from 0.73451 to 0.75221, saving model to /content/gdrive/My Drive/Models/MRNET_sagittal_abnormal.h5\n",
            "1017/1017 - 3s - loss: 0.8261 - accuracy: 0.7011 - val_loss: 0.7620 - val_accuracy: 0.7522 - lr: 1.0000e-04\n",
            "Epoch 6/100\n",
            "\n",
            "Epoch 00006: val_accuracy improved from 0.75221 to 0.81416, saving model to /content/gdrive/My Drive/Models/MRNET_sagittal_abnormal.h5\n",
            "1017/1017 - 3s - loss: 0.7545 - accuracy: 0.7522 - val_loss: 0.7454 - val_accuracy: 0.8142 - lr: 1.0000e-04\n",
            "Epoch 7/100\n",
            "\n",
            "Epoch 00007: val_accuracy did not improve from 0.81416\n",
            "1017/1017 - 3s - loss: 0.7738 - accuracy: 0.7453 - val_loss: 0.7123 - val_accuracy: 0.7611 - lr: 1.0000e-04\n",
            "Epoch 8/100\n",
            "\n",
            "Epoch 00008: val_accuracy did not improve from 0.81416\n",
            "1017/1017 - 3s - loss: 0.7427 - accuracy: 0.7571 - val_loss: 0.6591 - val_accuracy: 0.7080 - lr: 1.0000e-04\n",
            "Epoch 9/100\n",
            "\n",
            "Epoch 00009: val_accuracy did not improve from 0.81416\n",
            "1017/1017 - 3s - loss: 0.7332 - accuracy: 0.7679 - val_loss: 0.6710 - val_accuracy: 0.7788 - lr: 1.0000e-04\n",
            "Epoch 10/100\n",
            "\n",
            "Epoch 00010: val_accuracy did not improve from 0.81416\n",
            "1017/1017 - 3s - loss: 0.6909 - accuracy: 0.7837 - val_loss: 0.6342 - val_accuracy: 0.7876 - lr: 1.0000e-04\n",
            "Epoch 11/100\n",
            "\n",
            "Epoch 00011: val_accuracy did not improve from 0.81416\n",
            "1017/1017 - 3s - loss: 0.6982 - accuracy: 0.7738 - val_loss: 0.6170 - val_accuracy: 0.7965 - lr: 1.0000e-04\n",
            "Epoch 12/100\n",
            "\n",
            "Epoch 00012: val_accuracy did not improve from 0.81416\n",
            "1017/1017 - 3s - loss: 0.6554 - accuracy: 0.7630 - val_loss: 0.6232 - val_accuracy: 0.7965 - lr: 1.0000e-04\n",
            "Epoch 13/100\n",
            "\n",
            "Epoch 00013: val_accuracy did not improve from 0.81416\n",
            "1017/1017 - 3s - loss: 0.6598 - accuracy: 0.7856 - val_loss: 0.5744 - val_accuracy: 0.7522 - lr: 1.0000e-04\n",
            "Epoch 14/100\n",
            "\n",
            "Epoch 00014: val_accuracy improved from 0.81416 to 0.82301, saving model to /content/gdrive/My Drive/Models/MRNET_sagittal_abnormal.h5\n",
            "1017/1017 - 3s - loss: 0.6231 - accuracy: 0.7778 - val_loss: 0.5588 - val_accuracy: 0.8230 - lr: 1.0000e-04\n",
            "Epoch 15/100\n",
            "\n",
            "Epoch 00015: val_accuracy did not improve from 0.82301\n",
            "1017/1017 - 3s - loss: 0.6209 - accuracy: 0.7856 - val_loss: 0.5610 - val_accuracy: 0.7434 - lr: 1.0000e-04\n",
            "Epoch 16/100\n",
            "\n",
            "Epoch 00016: val_accuracy did not improve from 0.82301\n",
            "1017/1017 - 3s - loss: 0.6021 - accuracy: 0.7925 - val_loss: 0.5860 - val_accuracy: 0.6991 - lr: 1.0000e-04\n",
            "Epoch 17/100\n",
            "\n",
            "Epoch 00017: val_accuracy did not improve from 0.82301\n",
            "1017/1017 - 3s - loss: 0.5794 - accuracy: 0.7670 - val_loss: 0.5372 - val_accuracy: 0.8230 - lr: 1.0000e-04\n",
            "Epoch 18/100\n",
            "\n",
            "Epoch 00018: val_accuracy did not improve from 0.82301\n",
            "1017/1017 - 3s - loss: 0.5584 - accuracy: 0.7709 - val_loss: 0.5765 - val_accuracy: 0.7434 - lr: 1.0000e-04\n",
            "Epoch 19/100\n",
            "\n",
            "Epoch 00019: val_accuracy did not improve from 0.82301\n",
            "1017/1017 - 3s - loss: 0.5645 - accuracy: 0.7266 - val_loss: 0.5647 - val_accuracy: 0.7611 - lr: 1.0000e-04\n",
            "Epoch 20/100\n",
            "\n",
            "Epoch 00020: val_accuracy did not improve from 0.82301\n",
            "1017/1017 - 3s - loss: 0.5762 - accuracy: 0.7670 - val_loss: 0.5432 - val_accuracy: 0.8053 - lr: 1.0000e-04\n",
            "Epoch 21/100\n",
            "\n",
            "Epoch 00021: val_accuracy improved from 0.82301 to 0.83186, saving model to /content/gdrive/My Drive/Models/MRNET_sagittal_abnormal.h5\n",
            "1017/1017 - 3s - loss: 0.5166 - accuracy: 0.7876 - val_loss: 0.5667 - val_accuracy: 0.8319 - lr: 1.0000e-04\n",
            "Epoch 22/100\n",
            "\n",
            "Epoch 00022: val_accuracy did not improve from 0.83186\n",
            "1017/1017 - 3s - loss: 0.5404 - accuracy: 0.7296 - val_loss: 0.5343 - val_accuracy: 0.7611 - lr: 1.0000e-04\n",
            "Epoch 23/100\n",
            "\n",
            "Epoch 00023: val_accuracy did not improve from 0.83186\n",
            "1017/1017 - 3s - loss: 0.5255 - accuracy: 0.7778 - val_loss: 0.5344 - val_accuracy: 0.7788 - lr: 1.0000e-04\n",
            "Epoch 24/100\n",
            "\n",
            "Epoch 00024: val_accuracy did not improve from 0.83186\n",
            "1017/1017 - 3s - loss: 0.5082 - accuracy: 0.7591 - val_loss: 0.5467 - val_accuracy: 0.7788 - lr: 1.0000e-04\n",
            "Epoch 25/100\n",
            "\n",
            "Epoch 00025: val_accuracy did not improve from 0.83186\n",
            "1017/1017 - 3s - loss: 0.5098 - accuracy: 0.7404 - val_loss: 0.5101 - val_accuracy: 0.7611 - lr: 1.0000e-04\n",
            "Epoch 26/100\n",
            "\n",
            "Epoch 00026: val_accuracy did not improve from 0.83186\n",
            "1017/1017 - 3s - loss: 0.4994 - accuracy: 0.7601 - val_loss: 0.5157 - val_accuracy: 0.8319 - lr: 1.0000e-04\n",
            "Epoch 27/100\n",
            "\n",
            "Epoch 00027: val_accuracy did not improve from 0.83186\n",
            "1017/1017 - 3s - loss: 0.5037 - accuracy: 0.7748 - val_loss: 0.5477 - val_accuracy: 0.7876 - lr: 1.0000e-04\n",
            "Epoch 28/100\n",
            "\n",
            "Epoch 00028: val_accuracy did not improve from 0.83186\n",
            "1017/1017 - 3s - loss: 0.4996 - accuracy: 0.7886 - val_loss: 0.5168 - val_accuracy: 0.8230 - lr: 1.0000e-04\n",
            "Epoch 29/100\n",
            "\n",
            "Epoch 00029: val_accuracy did not improve from 0.83186\n",
            "1017/1017 - 3s - loss: 0.4958 - accuracy: 0.7483 - val_loss: 0.5294 - val_accuracy: 0.8142 - lr: 1.0000e-04\n",
            "Epoch 30/100\n",
            "\n",
            "Epoch 00030: val_accuracy did not improve from 0.83186\n",
            "1017/1017 - 3s - loss: 0.4817 - accuracy: 0.7689 - val_loss: 0.5406 - val_accuracy: 0.7434 - lr: 1.0000e-04\n",
            "Epoch 31/100\n",
            "\n",
            "Epoch 00031: val_accuracy did not improve from 0.83186\n",
            "1017/1017 - 3s - loss: 0.4604 - accuracy: 0.7473 - val_loss: 0.5361 - val_accuracy: 0.6991 - lr: 1.0000e-04\n",
            "Epoch 32/100\n",
            "\n",
            "Epoch 00032: val_accuracy did not improve from 0.83186\n",
            "1017/1017 - 3s - loss: 0.4582 - accuracy: 0.7443 - val_loss: 0.5388 - val_accuracy: 0.6903 - lr: 1.0000e-04\n",
            "Epoch 33/100\n",
            "\n",
            "Epoch 00033: val_accuracy did not improve from 0.83186\n",
            "1017/1017 - 3s - loss: 0.4430 - accuracy: 0.7797 - val_loss: 0.5226 - val_accuracy: 0.7699 - lr: 1.0000e-04\n",
            "Epoch 34/100\n",
            "\n",
            "Epoch 00034: val_accuracy did not improve from 0.83186\n",
            "1017/1017 - 3s - loss: 0.4627 - accuracy: 0.7611 - val_loss: 0.5447 - val_accuracy: 0.7611 - lr: 1.0000e-04\n",
            "Epoch 35/100\n",
            "\n",
            "Epoch 00035: val_accuracy did not improve from 0.83186\n",
            "1017/1017 - 3s - loss: 0.4748 - accuracy: 0.7561 - val_loss: 0.5371 - val_accuracy: 0.7876 - lr: 1.0000e-04\n",
            "Epoch 00035: early stopping\n"
          ],
          "name": "stdout"
        }
      ]
    },
    {
      "cell_type": "code",
      "metadata": {
        "id": "w72ZouCfzRae",
        "colab_type": "code",
        "colab": {}
      },
      "source": [
        "from sklearn.metrics import accuracy_score\n",
        "\n",
        "def load_test(path):\n",
        "  files = [f for f in sorted(os.listdir(path)) if f.endswith(\".npy\")]\n",
        "  X_test = None\n",
        "  for f in files:\n",
        "    temp = np.load(path + \"/\" + f)\n",
        "    if X_test is None:\n",
        "      X_test = temp\n",
        "    else:\n",
        "      X_test = np.vstack((X_test, temp))\n",
        "  \n",
        "  return X_test\n",
        "\n",
        "\n",
        "\n",
        "def ensemble_evaluate(modelname,label):\n",
        "  planes = [\"axial\", \"coronal\", \"sagittal\"]\n",
        "  plane_predictions = None\n",
        "  weights = []\n",
        "  Y_test = np.load(\"/content/gdrive/My Drive/Dataset/TestSet/\" + label + \".npy\")[:,1]\n",
        "  for i,plane in enumerate(planes):\n",
        "    print(\"Predicting plane: \" + plane)\n",
        "    # print(\"Loading Model\")\n",
        "    model = models.load_model(\"/content/gdrive/My Drive/Models/\"+modelname+\"_\"+plane+\"_\"+label+\".h5\")\n",
        "    # print(\"Loading Data\")\n",
        "    X_test = load_test(\"/content/gdrive/My Drive/Features/TestSet/\"+plane)\n",
        "    # print(\"Evaluating\")\n",
        "    weights.append(model.evaluate(X_test, Y_test, verbose=0)[1])\n",
        "    predictions = (model.predict(X_test)>0.5).astype(np.int_).ravel()\n",
        "    # print(\"Predicting\")\n",
        "    if plane_predictions is None:\n",
        "      plane_predictions = predictions\n",
        "    else:\n",
        "      plane_predictions = np.vstack((plane_predictions, predictions))\n",
        "    # print(plane_predictions.shape)\n",
        "\n",
        "  weighted_predictions = np.arange(plane_predictions.shape[1])\n",
        "  weights = np.array(weights)\n",
        "  for i in range(plane_predictions.shape[1]):\n",
        "    weighted_predictions[i] = np.argmax(np.bincount(np.array([plane_predictions[0][i], plane_predictions[1][i], plane_predictions[2][i]]),weights))\n",
        "  \n",
        "\n",
        "  ground_truth = np.load(\"/content/gdrive/My Drive/Dataset/TestSet/\"+label+\".npy\")[:,1]\n",
        "\n",
        "  print(\"Accuracy of \" + modelname + \" model with \" + label + \" label: \")\n",
        "  print(accuracy_score(ground_truth, weighted_predictions))"
      ],
      "execution_count": 0,
      "outputs": []
    },
    {
      "cell_type": "code",
      "metadata": {
        "id": "134qn6X71uNK",
        "colab_type": "code",
        "outputId": "cf7d26dc-8844-4956-b6ba-6c1e18ab4178",
        "colab": {
          "base_uri": "https://localhost:8080/",
          "height": 102
        }
      },
      "source": [
        "ensemble_evaluate(\"MRNET\",\"abnormal\")"
      ],
      "execution_count": 0,
      "outputs": [
        {
          "output_type": "stream",
          "text": [
            "Predicting plane: axial\n",
            "Predicting plane: coronal\n",
            "Predicting plane: sagittal\n",
            "Accuracy of MRNET model with abnormal label: \n",
            "0.8416666666666667\n"
          ],
          "name": "stdout"
        }
      ]
    },
    {
      "cell_type": "code",
      "metadata": {
        "id": "q7jQYJYI10zz",
        "colab_type": "code",
        "outputId": "2a5a348a-2590-463e-f102-64d1c990f4a6",
        "colab": {
          "base_uri": "https://localhost:8080/",
          "height": 102
        }
      },
      "source": [
        "ensemble_evaluate(\"MRNET\",\"acl\")"
      ],
      "execution_count": 0,
      "outputs": [
        {
          "output_type": "stream",
          "text": [
            "Predicting plane: axial\n",
            "Predicting plane: coronal\n",
            "Predicting plane: sagittal\n",
            "Accuracy of MRNET model with acl label: \n",
            "0.6083333333333333\n"
          ],
          "name": "stdout"
        }
      ]
    },
    {
      "cell_type": "code",
      "metadata": {
        "id": "TEwSmuan15T4",
        "colab_type": "code",
        "outputId": "a3cbd68d-2b87-4159-c260-578fdd692780",
        "colab": {
          "base_uri": "https://localhost:8080/",
          "height": 102
        }
      },
      "source": [
        "ensemble_evaluate(\"MRNET\",\"meniscus\")"
      ],
      "execution_count": 0,
      "outputs": [
        {
          "output_type": "stream",
          "text": [
            "Predicting plane: axial\n",
            "Predicting plane: coronal\n",
            "Predicting plane: sagittal\n",
            "Accuracy of MRNET model with meniscus label: \n",
            "0.6916666666666667\n"
          ],
          "name": "stdout"
        }
      ]
    }
  ]
}